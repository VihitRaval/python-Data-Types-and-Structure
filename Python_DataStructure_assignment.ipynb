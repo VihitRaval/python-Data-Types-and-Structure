{
  "nbformat": 4,
  "nbformat_minor": 0,
  "metadata": {
    "colab": {
      "provenance": []
    },
    "kernelspec": {
      "name": "python3",
      "display_name": "Python 3"
    },
    "language_info": {
      "name": "python"
    }
  },
  "cells": [
    {
      "cell_type": "markdown",
      "metadata": {
        "id": "566db01a"
      },
      "source": [
        "#Questions\n",
        "\n",
        "1.  **What are data structures, and why are they important?**\n",
        "    - Data structures are ways of organizing and storing data in a computer so that it can be accessed and modified efficiently. They are important because they allow us to manage and manipulate data effectively, which is crucial for building complex and efficient programs. Different data structures are suited for different tasks.\n",
        "\n",
        "2.  **Explain the difference between mutable and immutable data types with examples.**\n",
        "    - **Mutable data types** can be changed after they are created. Examples include lists, dictionaries, and sets.\n",
        "    - **Immutable data types** cannot be changed after they are created. Examples include strings, tuples, and numbers (integers, floats).\n",
        "\n",
        "3.  **What are the main differences between lists and tuples in Python?**\n",
        "    - **Lists** are mutable, ordered collections of items. They are defined using square brackets `[]`.\n",
        "    - **Tuples** are immutable, ordered collections of items. They are defined using parentheses `()`. The key difference is mutability; lists can be modified (add, remove, change elements), while tuples cannot.\n",
        "\n",
        "4.  **Describe how dictionaries store data.**\n",
        "    - Dictionaries store data as key-value pairs. Each key is unique within the dictionary and is used to access its corresponding value. Dictionaries are unordered (in Python versions prior to 3.7, and insertion order is preserved from 3.7 onwards) and mutable. They are defined using curly braces `{}`.\n",
        "\n",
        "5.  **Why might you use a set instead of a list in Python?**\n",
        "    - You might use a set instead of a list when you need a collection of unique elements and the order of elements doesn't matter. Sets are useful for quickly checking for membership (using the `in` keyword) and for performing mathematical set operations like union, intersection, and difference. Sets also automatically handle duplicate values, ensuring each element is unique.\n",
        "\n",
        "6.  **What is a string in Python, and how is it different from a list?**\n",
        "    - A string in Python is an immutable sequence of characters. It is used to represent text. While both strings and lists are sequences and can be iterated over, the main difference is mutability: strings are immutable, meaning you cannot change individual characters in place, whereas lists are mutable and can be modified.\n",
        "\n",
        "7.  **How do tuples ensure data integrity in Python?**\n",
        "    - Tuples ensure data integrity because they are immutable. Once a tuple is created, its elements cannot be changed, added, or removed. This makes tuples suitable for storing data that should not be altered, such as configuration settings or coordinates.\n",
        "\n",
        "8.  **What is a hash table, and how does it relate to dictionaries in Python?**\n",
        "    - A hash table (or hash map) is a data structure that implements an associative array (mapping keys to values). Dictionaries in Python are implemented using hash tables. Hash tables use a hash function to compute an index into an array of buckets or slots, where the values are stored. This allows for very fast average-case time complexity for operations like insertion, deletion, and lookup.\n",
        "\n",
        "9.  **Can lists contain different data types in Python?**\n",
        "    - Yes, lists in Python can contain elements of different data types. You can have a list containing integers, strings, floats, other lists, dictionaries, or any other Python object.\n",
        "\n",
        "10. **Explain why strings are immutable in Python.**\n",
        "    - Strings are immutable in Python because immutability allows for certain optimizations and guarantees. For example, immutable objects can be safely shared between different parts of a program without worrying about unexpected modifications. Also, immutability is important for using strings as keys in dictionaries, as dictionary keys must be hashable (and mutability would make them unhashable).\n",
        "\n",
        "11. **What advantages do dictionaries offer over lists for certain tasks?**\n",
        "    - Dictionaries offer advantages over lists when you need to access data based on a key rather than an index. They provide very fast lookups, insertions, and deletions on average. Dictionaries are ideal for representing data with named attributes or when you need to quickly retrieve a value associated with a specific identifier.\n",
        "\n",
        "12. **Describe a scenario where using a tuple would be preferable over a list.**\n",
        "    - A scenario where using a tuple would be preferable over a list is when you need to store a collection of related items that should not be changed, such as a set of coordinates (e.g., latitude and longitude) or a record of immutable data. Since tuples are immutable, they guarantee that the data remains constant.\n",
        "\n",
        "13. **How do sets handle duplicate values in Python?**\n",
        "    - Sets in Python automatically handle duplicate values by only storing one instance of each unique element. When you add an element to a set that is already present, the set remains unchanged. This makes sets useful for easily removing duplicates from a collection.\n",
        "\n",
        "14. **How does the \"in\" keyword work differently for lists and dictionaries?**\n",
        "    - For lists, the `in` keyword checks if an element is present among the *values* in the list. For dictionaries, the `in` keyword checks if a key is present among the *keys* in the dictionary.\n",
        "\n",
        "15. **Can you modify the elements of a tuple? Explain why or why not.**\n",
        "    - No, you cannot modify the elements of a tuple. Tuples are immutable data types in Python. Once a tuple is created, its contents cannot be changed. This is a fundamental characteristic of tuples and is why they are used for data that should not be altered.\n",
        "\n",
        "16. **What is a nested dictionary, and give an example of its use case?**\n",
        "    - A nested dictionary is a dictionary where the values are themselves dictionaries. This allows you to create hierarchical data structures. A common use case is representing complex objects or records, such as a database of users where each user's information (name, email, address) is stored in a separate nested dictionary.\n",
        "17. **Describe the time complexity of accessing elements in a dictionary**\n",
        "    - Accessing elements in a Python dictionary is generally very fast because dictionaries are implemented using hash tables. On average, the time complexity is O(1), meaning elements can be accessed in constant time since the key is hashed to find the corresponding value directly. However, in the worst case, if many keys hash to the same location (hash collisions), accessing an element may require scanning through multiple entries, leading to a time complexity of O(n). Fortunately, Python’s efficient hashing and collision resolution strategies make the average-case O(1) performance the most common in practice.\n",
        "18. **In what situations are lists preferred over dictionaries?**\n",
        "    - Lists are preferred over dictionaries in situations where the order of elements matters, where data needs to be accessed by position using indices, or where duplicate values are required. Since lists store elements in a sequential manner, they are ideal for ordered collections such as sequences, arrays, or time-based data. They are also more memory-efficient when only values are needed, without the overhead of key-value pairs. Moreover, lists provide a simple and intuitive way to manage collections of items, making them suitable for straightforward use cases like storing names, numbers, or items in a specific order.\n",
        "19. **Why are dictionaries considered unordered, and how does that affect data retrieval?**\n",
        "    - Dictionaries are considered unordered because they store data using a hashing mechanism, where each key is mapped to a memory location based on its hash value rather than its insertion position. This means the elements are not arranged sequentially like in a list, and traditionally their order could not be relied upon. As a result, when retrieving data, you must use the specific key associated with a value instead of relying on positional access. Although in modern versions of Python (3.7+), dictionaries preserve insertion order for practical use, they are still conceptually treated as unordered because their primary purpose is fast key-based lookup rather than maintaining sequence. This affects data retrieval by making it efficient through keys but unsuitable when strict positional ordering is required.\n",
        "20. **Explain the difference between a list and a dictionary in terms of data retrieval.**\n",
        "    - The main difference between a list and a dictionary in terms of data retrieval lies in how elements are accessed. In a list, data is retrieved using integer indices that represent the position of an element in the sequence, such as list[0] for the first item. This makes lists ideal for ordered collections where the position of items is important. In contrast, a dictionary retrieves data using unique keys that are mapped to values through hashing, such as dict[\"name\"]. This allows for faster and more direct access when the key is known, without needing to search through positions. Therefore, lists are suited for sequential, index-based retrieval, while dictionaries are better for fast, key-based lookups."
      ]
    },
    {
      "cell_type": "markdown",
      "source": [
        "# Practical Questions"
      ],
      "metadata": {
        "id": "xhvBlmU9nnHk"
      }
    },
    {
      "cell_type": "code",
      "execution_count": 4,
      "metadata": {
        "colab": {
          "base_uri": "https://localhost:8080/"
        },
        "id": "vwB89L_5jwK7",
        "outputId": "f62fdd69-2441-495b-e3fb-346555758ee8"
      },
      "outputs": [
        {
          "output_type": "stream",
          "name": "stdout",
          "text": [
            "Vihit Raval\n"
          ]
        }
      ],
      "source": [
        "# 1. Write a code to create a string with your name and print it.\n",
        "name = \"Vihit Raval\"\n",
        "print(name)"
      ]
    },
    {
      "cell_type": "code",
      "source": [
        "# 2. Write a code to find the length of the string \"Hello World\".\n",
        "string = \"Hello World\"\n",
        "print(len(string))"
      ],
      "metadata": {
        "colab": {
          "base_uri": "https://localhost:8080/"
        },
        "id": "9KW2Qmwqn-Oy",
        "outputId": "0f4e6f0d-635b-442a-8b39-8f9a10271ae0"
      },
      "execution_count": 5,
      "outputs": [
        {
          "output_type": "stream",
          "name": "stdout",
          "text": [
            "11\n"
          ]
        }
      ]
    },
    {
      "cell_type": "code",
      "source": [
        "# 3. Write a to slice the first 3 characters from the string \"Pyhon Programming\".\n",
        "string = \"Python Programming\"\n",
        "print(string[:3])"
      ],
      "metadata": {
        "colab": {
          "base_uri": "https://localhost:8080/"
        },
        "id": "9xM0MwEMonXH",
        "outputId": "898ea178-3db4-4351-d22a-8ca8bd49905f"
      },
      "execution_count": 6,
      "outputs": [
        {
          "output_type": "stream",
          "name": "stdout",
          "text": [
            "Pyt\n"
          ]
        }
      ]
    },
    {
      "cell_type": "code",
      "source": [
        "# 4. Write a code to convert the string \"hello\" to uppercase.\n",
        "string = \"hello\"\n",
        "print(string.upper())"
      ],
      "metadata": {
        "colab": {
          "base_uri": "https://localhost:8080/"
        },
        "id": "DYAo4X94o0gM",
        "outputId": "ed1da5bb-486d-4142-8edc-bfdfa2b3480d"
      },
      "execution_count": 7,
      "outputs": [
        {
          "output_type": "stream",
          "name": "stdout",
          "text": [
            "HELLO\n"
          ]
        }
      ]
    },
    {
      "cell_type": "code",
      "source": [
        "# 5. Write a code to replace the word \"apple\" with \"orange\" in the string \"i like apple\".\n",
        "string = \"i like apple\"\n",
        "print(string.replace(\"apple\", \"orange\"))"
      ],
      "metadata": {
        "colab": {
          "base_uri": "https://localhost:8080/"
        },
        "id": "B46e21axpWMQ",
        "outputId": "6be43ddf-d204-48a7-9c69-d9f68aaa3e9c"
      },
      "execution_count": 8,
      "outputs": [
        {
          "output_type": "stream",
          "name": "stdout",
          "text": [
            "i like orange\n"
          ]
        }
      ]
    },
    {
      "cell_type": "code",
      "source": [
        "# 6. Write a code to create a list with numbers 1 to 5 and print it.\n",
        "list = [1, 2, 3, 4, 5]\n",
        "print(list)\n"
      ],
      "metadata": {
        "colab": {
          "base_uri": "https://localhost:8080/"
        },
        "id": "LeRCLpU3pngr",
        "outputId": "ad2106c7-5607-476d-8cae-b0d849136dba"
      },
      "execution_count": 9,
      "outputs": [
        {
          "output_type": "stream",
          "name": "stdout",
          "text": [
            "[1, 2, 3, 4, 5]\n"
          ]
        }
      ]
    },
    {
      "cell_type": "code",
      "source": [
        "# 7. Write a code to append the number 10 to the list [1,2,3,4]\n",
        "list = [1, 2, 3, 4]\n",
        "list.append(10)\n",
        "print(list)"
      ],
      "metadata": {
        "colab": {
          "base_uri": "https://localhost:8080/"
        },
        "id": "9E5UR1kjqkvF",
        "outputId": "0be852f6-e003-4fe1-c849-b6645a19067d"
      },
      "execution_count": 10,
      "outputs": [
        {
          "output_type": "stream",
          "name": "stdout",
          "text": [
            "[1, 2, 3, 4, 10]\n"
          ]
        }
      ]
    },
    {
      "cell_type": "code",
      "source": [
        "# 8. Write a code to to remove the number 3 from the list [1,2,3,4,5]\n",
        "list = [1, 2, 3, 4, 5]\n",
        "list.remove(3)\n",
        "print(list)"
      ],
      "metadata": {
        "colab": {
          "base_uri": "https://localhost:8080/"
        },
        "id": "bJ1crqHaqx5o",
        "outputId": "5c932278-3233-4591-83f6-32d893882efb"
      },
      "execution_count": 11,
      "outputs": [
        {
          "output_type": "stream",
          "name": "stdout",
          "text": [
            "[1, 2, 4, 5]\n"
          ]
        }
      ]
    },
    {
      "cell_type": "code",
      "source": [
        "# 9. Write a code to access the second element in the list [\"a\", \"b\" , \"c\" , \"d\"].\n",
        "list = [\"a\", \"b\", \"c\", \"d\"]\n",
        "print(list[1])"
      ],
      "metadata": {
        "colab": {
          "base_uri": "https://localhost:8080/"
        },
        "id": "sqL3vK8vrDBI",
        "outputId": "6b9013e5-ed0f-4a84-a2cf-a0fc53a7c38b"
      },
      "execution_count": 12,
      "outputs": [
        {
          "output_type": "stream",
          "name": "stdout",
          "text": [
            "b\n"
          ]
        }
      ]
    },
    {
      "cell_type": "code",
      "source": [
        "# 10. Write a code to reverse the list [10,20,30,40,50].\n",
        "list = [10,20,30,40,50]\n",
        "print(list[::-1])"
      ],
      "metadata": {
        "colab": {
          "base_uri": "https://localhost:8080/"
        },
        "id": "mwxOKhQorW3k",
        "outputId": "a6782e0c-7480-4132-8d83-01514301cdb6"
      },
      "execution_count": 16,
      "outputs": [
        {
          "output_type": "stream",
          "name": "stdout",
          "text": [
            "[50, 40, 30, 20, 10]\n"
          ]
        }
      ]
    },
    {
      "cell_type": "code",
      "source": [
        "# 11. Write a code to create a tuple with the elements 100 ,200 , 300 and print it.\n",
        "tuple = (100,200,300)\n",
        "print(tuple)"
      ],
      "metadata": {
        "colab": {
          "base_uri": "https://localhost:8080/"
        },
        "id": "cui-bvXRro5O",
        "outputId": "54504c91-f170-44f7-93d2-64a2a958a65b"
      },
      "execution_count": 17,
      "outputs": [
        {
          "output_type": "stream",
          "name": "stdout",
          "text": [
            "(100, 200, 300)\n"
          ]
        }
      ]
    },
    {
      "cell_type": "code",
      "source": [
        "# 12. Write a code to access the second-to-last element of the tuple (\"red\",\"green\",\"blue\",\"yellow\").\n",
        "tuple = (\"red\",\"green\",\"blue\",\"yellow\")\n",
        "print(tuple[-2])"
      ],
      "metadata": {
        "colab": {
          "base_uri": "https://localhost:8080/"
        },
        "id": "ZJd-EjZzsfba",
        "outputId": "c3e1b253-6aa5-4699-c8a4-bb498f97fe14"
      },
      "execution_count": 18,
      "outputs": [
        {
          "output_type": "stream",
          "name": "stdout",
          "text": [
            "blue\n"
          ]
        }
      ]
    },
    {
      "cell_type": "code",
      "source": [
        "# 13. Write a code to find the minimum number in the tuple(10,20,5,15).\n",
        "tuple = (10,20,5,15)\n",
        "print(min(tuple))"
      ],
      "metadata": {
        "colab": {
          "base_uri": "https://localhost:8080/"
        },
        "id": "tWwSiZUzszZt",
        "outputId": "16b4b89b-9a7d-4eb2-d2c9-14bfa03b7fb3"
      },
      "execution_count": 19,
      "outputs": [
        {
          "output_type": "stream",
          "name": "stdout",
          "text": [
            "5\n"
          ]
        }
      ]
    },
    {
      "cell_type": "code",
      "source": [
        "# 14. Write a code to find the index of element \"cat\" in the tuple (\"dog\" ,\"cat\" , \"rabbit\")\n",
        "tuple = (\"dog\",\"cat\",\"rabbit\")\n",
        "print(tuple.index(\"cat\"))"
      ],
      "metadata": {
        "colab": {
          "base_uri": "https://localhost:8080/"
        },
        "id": "-XZBYiJMtqYv",
        "outputId": "4f7f5dde-862e-4c9c-c9ce-b6557d770052"
      },
      "execution_count": 20,
      "outputs": [
        {
          "output_type": "stream",
          "name": "stdout",
          "text": [
            "1\n"
          ]
        }
      ]
    },
    {
      "cell_type": "code",
      "source": [
        "# 15. Write a code to create a tuple containing three different fruits and check if \"kiwi\" is in it.\n",
        "tuple = (\"apple\",\"banana\",\"kiwi\")\n",
        "print(\"kiwi\" in tuple)"
      ],
      "metadata": {
        "colab": {
          "base_uri": "https://localhost:8080/"
        },
        "id": "xW13YaPtuI1y",
        "outputId": "c537c02c-1c4e-4457-faa4-d92b0109e2b1"
      },
      "execution_count": 21,
      "outputs": [
        {
          "output_type": "stream",
          "name": "stdout",
          "text": [
            "True\n"
          ]
        }
      ]
    },
    {
      "cell_type": "code",
      "source": [
        "# 16. Write a code to create a set with the elements \"a\" , \"b\" , \"c\" and print it\n",
        "s1 = {\"a\" , \"b\" , \"c\"}\n",
        "print(s1)"
      ],
      "metadata": {
        "colab": {
          "base_uri": "https://localhost:8080/"
        },
        "id": "HK2dZUsPurR4",
        "outputId": "84715b9c-cd9c-4c0c-ee4f-6f6e9ce938de"
      },
      "execution_count": 59,
      "outputs": [
        {
          "output_type": "stream",
          "name": "stdout",
          "text": [
            "{'b', 'c', 'a'}\n"
          ]
        }
      ]
    },
    {
      "cell_type": "code",
      "source": [
        "# 17. Write a code to clear all elements from the set {1,2,3,4,5}\n",
        "s1 = {1,2,3,4,5}\n",
        "s1.clear()\n",
        "print(s1)"
      ],
      "metadata": {
        "colab": {
          "base_uri": "https://localhost:8080/"
        },
        "id": "J7WJI32Aw6Hq",
        "outputId": "826f2ef1-4903-4ae0-b8b9-f210569094fd"
      },
      "execution_count": 25,
      "outputs": [
        {
          "output_type": "stream",
          "name": "stdout",
          "text": [
            "set()\n"
          ]
        }
      ]
    },
    {
      "cell_type": "code",
      "source": [
        "# 18. Write a code to remove the element 4 from the the st {1,2,3,4}\n",
        "s1 = {1,2,3,4}\n",
        "s1.remove(4)\n",
        "print(s1)"
      ],
      "metadata": {
        "colab": {
          "base_uri": "https://localhost:8080/"
        },
        "id": "ttFJ6mrlyAa4",
        "outputId": "0c87e90a-76c2-444f-d721-4800d7c57c2c"
      },
      "execution_count": 26,
      "outputs": [
        {
          "output_type": "stream",
          "name": "stdout",
          "text": [
            "{1, 2, 3}\n"
          ]
        }
      ]
    },
    {
      "cell_type": "code",
      "source": [
        "# 19. Write a code to find the union of two sets {1,2,3} and {3,4,5}\n",
        "s1 = {1,2,3}\n",
        "s2 = {3,4,5}\n",
        "print(f\"the union of {s1} and {s2} is\" , s1 | s2)"
      ],
      "metadata": {
        "colab": {
          "base_uri": "https://localhost:8080/"
        },
        "id": "tgScpuq8yatv",
        "outputId": "e138b130-1733-460e-b77b-39c90146dd5d"
      },
      "execution_count": 27,
      "outputs": [
        {
          "output_type": "stream",
          "name": "stdout",
          "text": [
            "the union of {1, 2, 3} and {3, 4, 5} is {1, 2, 3, 4, 5}\n"
          ]
        }
      ]
    },
    {
      "cell_type": "code",
      "source": [
        "# 20. Write a code to find the intersection of two sets {1,2,3} and {2,3,4}\n",
        "s1 = {1,2,3}\n",
        "s2 = {2,3,4}\n",
        "print(f\"the intersection of {s1} and {s2} is\" , s1 & s2)"
      ],
      "metadata": {
        "colab": {
          "base_uri": "https://localhost:8080/"
        },
        "id": "WFSa8BhHy4SX",
        "outputId": "0a801950-3b92-4666-b160-42689b8550bf"
      },
      "execution_count": 28,
      "outputs": [
        {
          "output_type": "stream",
          "name": "stdout",
          "text": [
            "the intersection of {1, 2, 3} and {2, 3, 4} is {2, 3}\n"
          ]
        }
      ]
    },
    {
      "cell_type": "code",
      "source": [
        "# 21. Write a code to create a dictionary with the keys \"name\", \"age\" , and \"city\" and print it.\n",
        "dict = {\"name\" : \"Vihit\" , \"age\" : 19 , \"city\" : \"surat\"}\n",
        "print(dict)"
      ],
      "metadata": {
        "colab": {
          "base_uri": "https://localhost:8080/"
        },
        "id": "L_oisQsbzvEK",
        "outputId": "b24d4416-0b05-4274-efb8-d9e82c20e6e3"
      },
      "execution_count": 29,
      "outputs": [
        {
          "output_type": "stream",
          "name": "stdout",
          "text": [
            "{'name': 'Vihit', 'age': 19, 'city': 'surat'}\n"
          ]
        }
      ]
    },
    {
      "cell_type": "code",
      "source": [
        "# 22. Write a code to add a new key-value pair \"country\":\"USA\" to the dictionary {\"name\":\"john\" , \"age\":30}\n",
        "dict = {\"name\":\"john\" , \"age\":30}\n",
        "dict[\"country\"] = \"USA\"\n",
        "print(dict)"
      ],
      "metadata": {
        "colab": {
          "base_uri": "https://localhost:8080/"
        },
        "id": "0sgv8YLi0RM-",
        "outputId": "b24d81e8-82af-490a-da8f-0ad2e333a5c4"
      },
      "execution_count": 30,
      "outputs": [
        {
          "output_type": "stream",
          "name": "stdout",
          "text": [
            "{'name': 'john', 'age': 30, 'country': 'USA'}\n"
          ]
        }
      ]
    },
    {
      "cell_type": "code",
      "source": [
        "# 23. Write a code to access the value associated with the key \"name\" in the dictionary {\"name\":\"alice\",\"age\":25}.\n",
        "dict = {\"name\":\"alice\",\"age\":25}\n",
        "print(dict[\"name\"])"
      ],
      "metadata": {
        "colab": {
          "base_uri": "https://localhost:8080/"
        },
        "id": "gl0kwTbg0u-B",
        "outputId": "3897e7c9-9f77-4d32-a40b-4a32c2488404"
      },
      "execution_count": 31,
      "outputs": [
        {
          "output_type": "stream",
          "name": "stdout",
          "text": [
            "alice\n"
          ]
        }
      ]
    },
    {
      "cell_type": "code",
      "source": [
        "# 24. Write a code to remove the key \"age\" from the dictionary {\"name\":\"bob\",\"age\":22 , \"city\":\"New York\"}.\n",
        "dict = {\"name\":\"bob\",\"age\":22 , \"city\":\"New York\"}\n",
        "dict.pop(\"age\")\n",
        "print(dict)"
      ],
      "metadata": {
        "colab": {
          "base_uri": "https://localhost:8080/"
        },
        "id": "bskwDq771Lnu",
        "outputId": "722d5607-0bd6-4c4e-b75b-ef684f113fc5"
      },
      "execution_count": 33,
      "outputs": [
        {
          "output_type": "stream",
          "name": "stdout",
          "text": [
            "{'name': 'bob', 'city': 'New York'}\n"
          ]
        }
      ]
    },
    {
      "cell_type": "code",
      "source": [
        "# 25. Write a code to check if the key \"city\" exists in the dictionary {\"name\":\"alice\", \"city\":\"paris\"}.\n",
        "dict = {\"name\":\"alice\", \"city\":\"paris\"}\n",
        "print(\"city\" in dict)"
      ],
      "metadata": {
        "colab": {
          "base_uri": "https://localhost:8080/"
        },
        "id": "BQ2eauFr1tCr",
        "outputId": "fd7ac2a3-f3ac-4b4c-9788-37565b6b868e"
      },
      "execution_count": 34,
      "outputs": [
        {
          "output_type": "stream",
          "name": "stdout",
          "text": [
            "True\n"
          ]
        }
      ]
    },
    {
      "cell_type": "code",
      "source": [
        "# 26. Write a code to create a list , a tuple and a dictionary and print them all\n",
        "list = [1,2,3,4,5]\n",
        "tuple = (1,2,3,4,5)\n",
        "dict = {\"name\" : \"Vihit\" , \"age\" : 19 , \"city\" : \"surat\"}\n",
        "print(list)\n",
        "print(tuple)\n",
        "print(dict)"
      ],
      "metadata": {
        "colab": {
          "base_uri": "https://localhost:8080/"
        },
        "id": "uhrG8UXl2Fad",
        "outputId": "02c05319-fd2c-41d2-e0c7-4d2570852ec0"
      },
      "execution_count": 35,
      "outputs": [
        {
          "output_type": "stream",
          "name": "stdout",
          "text": [
            "[1, 2, 3, 4, 5]\n",
            "(1, 2, 3, 4, 5)\n",
            "{'name': 'Vihit', 'age': 19, 'city': 'surat'}\n"
          ]
        }
      ]
    },
    {
      "cell_type": "code",
      "source": [
        "# 27. Write a code to create a list of 5 random numbers between 1 and 100 , sort it in ascending order , and print the result.(replaced).\n",
        "import random\n",
        "list = [random.sample(range(1,100), 5)]\n",
        "list.sort()\n",
        "print(list)"
      ],
      "metadata": {
        "colab": {
          "base_uri": "https://localhost:8080/"
        },
        "id": "c_Db3D002kgy",
        "outputId": "63b2564c-a30e-4ca2-ad04-1ff937dfe335"
      },
      "execution_count": 45,
      "outputs": [
        {
          "output_type": "stream",
          "name": "stdout",
          "text": [
            "[[16, 74, 4, 24, 31]]\n"
          ]
        }
      ]
    },
    {
      "cell_type": "code",
      "source": [
        "# 28. Write a code to create a list with strings and print the element at the third index.\n",
        "list = [\"apple\",\"banana\",\"kiwi\",\"watermelon\"]\n",
        "print(list[3])"
      ],
      "metadata": {
        "colab": {
          "base_uri": "https://localhost:8080/"
        },
        "id": "gdPNJhTE3IZE",
        "outputId": "9c72435e-6763-4978-a1be-6f4b606101f7"
      },
      "execution_count": 47,
      "outputs": [
        {
          "output_type": "stream",
          "name": "stdout",
          "text": [
            "watermelon\n"
          ]
        }
      ]
    },
    {
      "cell_type": "code",
      "source": [
        "# 29. Write a code to combine two dictionaries into one and print the result .\n",
        "l1 = {\"name\" : \"Vihit\" , \"age\" : 19 , \"city\" : \"surat\"}\n",
        "l2 = {\"name\":\"alice\",\"age\":25 , \"country\":\"INDIA\"}\n",
        "l1.update(l2)\n",
        "print(l1)"
      ],
      "metadata": {
        "colab": {
          "base_uri": "https://localhost:8080/"
        },
        "id": "lM1j4HL04sli",
        "outputId": "ae957b41-1371-4ee9-b88e-770b2c3235a8"
      },
      "execution_count": 51,
      "outputs": [
        {
          "output_type": "stream",
          "name": "stdout",
          "text": [
            "{'name': 'alice', 'age': 25, 'city': 'surat', 'country': 'INDIA'}\n"
          ]
        }
      ]
    },
    {
      "cell_type": "code",
      "source": [
        "# 30. Write a code to convert a list of strings into a set.\n",
        "my_list = [\"apple\", \"banana\", \"kiwi\", \"watermelon\"]\n",
        "s2 = set(my_list)\n",
        "print(s2)"
      ],
      "metadata": {
        "colab": {
          "base_uri": "https://localhost:8080/"
        },
        "id": "Yuqg2d9P5XZ7",
        "outputId": "f9efe4bc-1ed1-4ce1-a8ee-01b65b7d081e"
      },
      "execution_count": 60,
      "outputs": [
        {
          "output_type": "stream",
          "name": "stdout",
          "text": [
            "{'banana', 'watermelon', 'apple', 'kiwi'}\n"
          ]
        }
      ]
    }
  ]
}